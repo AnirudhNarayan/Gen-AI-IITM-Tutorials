{
 "cells": [
  {
   "cell_type": "code",
   "execution_count": 2,
   "id": "24ab7562",
   "metadata": {},
   "outputs": [],
   "source": [
    "import torch \n",
    "import torch.nn as nn\n",
    "import torch.optim as optim\n",
    "from torchvision import datasets, transforms\n",
    "from torchvision.utils import save_image\n",
    "import os\n",
    "\n",
    "device = torch.device(\"cuda\" if torch.cuda.is_available() else \"cpu\")\n",
    "batch_size = 128\n",
    "z_dim = 100\n",
    "num_classes = 10\n",
    "img_size = 28\n",
    "channels = 1\n",
    "epochs = 50\n",
    "lr = 0.0002\n",
    "beta1 = 0.5\n",
    "os.makedirs(\"cgan_generated\", exist_ok=True)"
   ]
  },
  {
   "cell_type": "code",
   "execution_count": 3,
   "id": "1bc38512",
   "metadata": {},
   "outputs": [],
   "source": [
    "transform = transforms.Compose([transforms.ToTensor(), transforms.Normalize([0.5], [0.5])])\n",
    "train_loader = torch.utils.data.DataLoader(datasets.MNIST('.', train = True , download = True))"
   ]
  },
  {
   "cell_type": "code",
   "execution_count": 4,
   "id": "ef929bf0",
   "metadata": {},
   "outputs": [],
   "source": [
    "class Generator(nn.Module):\n",
    "    def __init__(self, z_dim , num_classes , img_shape):\n",
    "        super().__init__()\n",
    "        self.label_emb = nn.Embedding(num_classes , num_classes)\n",
    "        self.img_shape = img_shape\n",
    "        input_dim = z_dim + num_classes\n",
    "\n",
    "        self.model = nn.Sequential(\n",
    "            nn.Linear(input_dim , 256),\n",
    "            nn.BatchNorm1d(256),\n",
    "            nn.ReLU(True),\n",
    "            nn.Linear(256,512),\n",
    "            nn.BatchNorm1d(512),\n",
    "            nn.ReLU(True),\n",
    "            nn.Linear(512,1024),\n",
    "            nn.BatchNorm1d(1024),\n",
    "            nn.ReLU(True),\n",
    "\n",
    "            nn.Linear(1024, int(torch.prod(torch.tensor(img_shape)))),\n",
    "            nn.Tanh()\n",
    "        )\n",
    "    \n",
    "    def forward(self , noise , labels):\n",
    "        # Concatenate noise and label embeddings\n",
    "        x = torch.cat([noise, self.label_emb(labels)], dim =1)\n",
    "        img = self.model(x)\n",
    "        img = img.view(x.size(0), *self.img_shape)\n",
    "        return img"
   ]
  },
  {
   "cell_type": "code",
   "execution_count": 10,
   "id": "d39cd8da",
   "metadata": {},
   "outputs": [],
   "source": [
    "class Discriminator(nn.Module):\n",
    "    def __init__(self, num_classes, img_shape):\n",
    "        super().__init__()\n",
    "        self.label_emb = nn.Embedding(num_classes, num_classes)\n",
    "        input_dim = int(torch.prod(torch.tensor(img_shape))) + num_classes\n",
    "\n",
    "        self.model = nn.Sequential(\n",
    "            nn.Linear(input_dim, 512),\n",
    "            nn.LeakyReLU(0.2, inplace=True),\n",
    "\n",
    "            nn.Linear(512, 256),\n",
    "            nn.LeakyReLU(0.2, inplace=True),\n",
    "\n",
    "            nn.Linear(256, 1),\n",
    "            nn.Sigmoid()\n",
    "        )\n",
    "\n",
    "    def forward(self, img, labels):\n",
    "        # Flatten image and concatenate label\n",
    "        img_flat = img.view(img.size(0), -1)\n",
    "        x = torch.cat([img_flat, self.label_emb(labels)], dim=1)\n",
    "        return self.model(x)"
   ]
  },
  {
   "cell_type": "code",
   "execution_count": 11,
   "id": "1612d1e0",
   "metadata": {},
   "outputs": [],
   "source": [
    "img_shape = (channels,img_size,img_size)\n",
    "generator = Generator(z_dim, num_classes, img_shape).to(device)\n",
    "discriminator = Discriminator(num_classes, img_shape).to(device)\n",
    "criterion = nn.BCELoss()\n",
    "optimizer_G = optim.Adam(generator.parameters(), lr=lr,betas = (beta1,0.999))\n",
    "optimizer_D = optim.Adam(discriminator.parameters(), lr = lr , betas = (beta1,0.999))"
   ]
  },
  {
   "cell_type": "code",
   "execution_count": null,
   "id": "220f31e2",
   "metadata": {},
   "outputs": [],
   "source": [
    "\n",
    "k = 3   \n",
    "p = 1  "
   ]
  },
  {
   "cell_type": "code",
   "execution_count": null,
   "id": "e71d7b36",
   "metadata": {},
   "outputs": [],
   "source": []
  }
 ],
 "metadata": {
  "kernelspec": {
   "display_name": "GAN_IITM",
   "language": "python",
   "name": "gan_iitm"
  },
  "language_info": {
   "codemirror_mode": {
    "name": "ipython",
    "version": 3
   },
   "file_extension": ".py",
   "mimetype": "text/x-python",
   "name": "python",
   "nbconvert_exporter": "python",
   "pygments_lexer": "ipython3",
   "version": "3.10.18"
  }
 },
 "nbformat": 4,
 "nbformat_minor": 5
}
