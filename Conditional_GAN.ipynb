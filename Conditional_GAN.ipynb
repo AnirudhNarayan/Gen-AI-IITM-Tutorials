{
 "cells": [
  {
   "cell_type": "code",
   "execution_count": 2,
   "id": "24ab7562",
   "metadata": {},
   "outputs": [],
   "source": [
    "import torch \n",
    "import torch.nn as nn\n",
    "import torch.optim as optim\n",
    "from torchvision import datasets, transforms\n",
    "from torchvision.utils import save_image\n",
    "import os\n",
    "\n",
    "device = torch.device(\"cuda\" if torch.cuda.is_available() else \"cpu\")\n",
    "batch_size = 128\n",
    "z_dim = 100\n",
    "num_classes = 10\n",
    "img_size = 28\n",
    "channels = 1\n",
    "epochs = 50\n",
    "lr = 0.0002\n",
    "beta1 = 0.5\n",
    "os.makedirs(\"cgan_generated\", exist_ok=True)"
   ]
  },
  {
   "cell_type": "code",
   "execution_count": null,
   "id": "1bc38512",
   "metadata": {},
   "outputs": [],
   "source": [
    "transform = transforms.Compose([transforms.ToTensor(), transforms.Normalize([0.5], [0.5])])\n",
    "train_loader = torch.utils.data,DataLoader(datasets.MNIST('.', train = True , download = True))"
   ]
  }
 ],
 "metadata": {
  "kernelspec": {
   "display_name": "GAN_IITM",
   "language": "python",
   "name": "python3"
  },
  "language_info": {
   "codemirror_mode": {
    "name": "ipython",
    "version": 3
   },
   "file_extension": ".py",
   "mimetype": "text/x-python",
   "name": "python",
   "nbconvert_exporter": "python",
   "pygments_lexer": "ipython3",
   "version": "3.10.18"
  }
 },
 "nbformat": 4,
 "nbformat_minor": 5
}
